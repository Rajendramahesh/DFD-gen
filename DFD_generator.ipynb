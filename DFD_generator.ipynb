{
 "cells": [
  {
   "cell_type": "code",
   "execution_count": 22,
   "id": "3c2e23e8",
   "metadata": {},
   "outputs": [],
   "source": [
    "\n",
    "import os\n",
    "import requests\n",
    "import json\n",
    "from typing import List\n",
    "from dotenv import load_dotenv\n",
    "from bs4 import BeautifulSoup\n",
    "from IPython.display import Markdown, display, update_display\n",
    "from openai import OpenAI"
   ]
  },
  {
   "cell_type": "code",
   "execution_count": 2,
   "id": "5bc57410",
   "metadata": {},
   "outputs": [
    {
     "name": "stdout",
     "output_type": "stream",
     "text": [
      "API key looks good so far\n"
     ]
    }
   ],
   "source": [
    "# Initialize and constants\n",
    "\n",
    "load_dotenv(override=True)\n",
    "api_key = os.getenv('OPENAI_API_KEY')\n",
    "\n",
    "if api_key and api_key.startswith('sk-proj-') and len(api_key)>10:\n",
    "    print(\"API key looks good so far\")\n",
    "else:\n",
    "    print(\"There might be a problem with your API key? Please visit the troubleshooting notebook!\")\n",
    "    \n",
    "MODEL = 'gpt-4o-mini'\n",
    "openai = OpenAI()"
   ]
  },
  {
   "cell_type": "code",
   "execution_count": 4,
   "id": "1192ebae",
   "metadata": {},
   "outputs": [],
   "source": [
    "# System prompt\n",
    "system_prompt = \"You are an expert in cybersecurity and threat modeling \\\n",
    "Your task is to generate structured Data Flow Diagrams (DFDs) with a focus on identifying potential threats\"\n",
    "\n",
    "system_prompt += \"\"\"\\nFollow these standards: \n",
    "    - Identify all external entities (e.g., user, third-party services, attackers). \n",
    "    - Identify all processes (e.g., application components, APIs, services). \n",
    "    - Identify all data stores (e.g., databases, file storage, logs). \n",
    "    - Identify all data flows (connections between entities, processes, and stores). \n",
    "    - Clearly specify trust boundaries (separating external actors and internal systems). \n",
    "    - Use STRIDE methodology (Spoofing, Tampering, Repudiation, Information Disclosure, Denial of Service, Elevation of Privilege) to highlight threats for each data flow or process.\n",
    "\"\"\"\n",
    "\n",
    "system_prompt += \"\"\"\\nOutput must contain: \n",
    "    1. A valid Mermaid or PlantUML diagram code block. \n",
    "    2. A threat analysis table in Markdown. \\n\n",
    "Example Output (Mermaid) \\n\n",
    "flowchart TD;\n",
    "  subgraph Internet;\n",
    "    User[External Entity: Customer];\n",
    "  end;\n",
    "\n",
    "  subgraph App[Web Application];\n",
    "    WebApp[Process: E-commerce Website];\n",
    "    DB[(Data Store: MySQL Database)];\n",
    "  end;\n",
    "\n",
    "  subgraph ExternalServices;\n",
    "    PayPal[External Entity: PayPal API];\n",
    "  end;\n",
    "\n",
    "  User -->|Login Credentials| WebApp;\n",
    "  WebApp -->|User Details Query| DB;\n",
    "  WebApp -->|Payment Request| PayPal;\n",
    "\"\"\"\n",
    "  \n"
   ]
  },
  {
   "cell_type": "code",
   "execution_count": 50,
   "id": "b9d40303",
   "metadata": {},
   "outputs": [
    {
     "name": "stdout",
     "output_type": "stream",
     "text": [
      "You are an expert in cybersecurity and threat modeling Your task is to generate structured Data Flow Diagrams (DFDs) with a focus on identifying potential threats\n",
      "Follow these standards: \n",
      "    - Identify all external entities (e.g., user, third-party services, attackers). \n",
      "    - Identify all processes (e.g., application components, APIs, services). \n",
      "    - Identify all data stores (e.g., databases, file storage, logs). \n",
      "    - Identify all data flows (connections between entities, processes, and stores). \n",
      "    - Clearly specify trust boundaries (separating external actors and internal systems). \n",
      "    - Use STRIDE methodology (Spoofing, Tampering, Repudiation, Information Disclosure, Denial of Service, Elevation of Privilege) to highlight threats for each data flow or process.\n",
      "\n",
      "Output must contain: \n",
      "    1. A valid Mermaid or PlantUML diagram code block. \n",
      "    2. A threat analysis table in Markdown. \n",
      "\n",
      "Example Output (Mermaid) \n",
      "\n",
      "flowchart TD;\n",
      "  subgraph Internet;\n",
      "    User[External Entity: Customer];\n",
      "  end;\n",
      "\n",
      "  subgraph App[Web Application];\n",
      "    WebApp[Process: E-commerce Website];\n",
      "    DB[(Data Store: MySQL Database)];\n",
      "  end;\n",
      "\n",
      "  subgraph ExternalServices;\n",
      "    PayPal[External Entity: PayPal API];\n",
      "  end;\n",
      "\n",
      "  User -->|Login Credentials| WebApp;\n",
      "  WebApp -->|User Details Query| DB;\n",
      "  WebApp -->|Payment Request| PayPal;\n",
      "\n"
     ]
    }
   ],
   "source": [
    "print(system_prompt)"
   ]
  },
  {
   "cell_type": "code",
   "execution_count": 5,
   "id": "3c4c84c2",
   "metadata": {},
   "outputs": [],
   "source": [
    "def user_prompt_dfd():\n",
    "    usecase = input(\"Enter the use case for the DFD:\")\n",
    "    user_prompt = f\"\"\"\n",
    "    Generate a Data Flow Diagram (DFD) in Mermaid syntax for the following system use case:\n",
    "\n",
    "    {usecase}\n",
    "\n",
    "    Requirements:\n",
    "    1. Identify external entities, processes, and data stores.\n",
    "    2. Show all data flows with appropriate labels.\n",
    "    3. Group elements under trust boundaries (e.g., Internet, Application, External Services).\n",
    "    4. After the diagram, provide a Threat Analysis (STRIDE) in a Markdown table with:\n",
    "    - Element\n",
    "    - STRIDE category\n",
    "    - Threat description\n",
    "    - Mitigation\n",
    "\n",
    "    The output must contain:\n",
    "    - A runnable Mermaid code block (```mermaid ... ```).\n",
    "    - A Markdown table for the STRIDE threat analysis.\n",
    "                        \"\"\"\n",
    "    return user_prompt"
   ]
  },
  {
   "cell_type": "code",
   "execution_count": 58,
   "id": "4dd397d5",
   "metadata": {},
   "outputs": [
    {
     "name": "stdout",
     "output_type": "stream",
     "text": [
      "\n",
      "    Generate a Data Flow Diagram (DFD) in Mermaid syntax for the following system use case:\n",
      "\n",
      "    We want a warehouse system to track incoming and outgoing goods. Staff should be able to update stock levels, and managers can view reports. The system should also connect to suppliers for reordering. Security considerations should include preventing unauthorized changes to inventory records, data leaks, or service disruption.\n",
      "\n",
      "    Requirements:\n",
      "    1. Identify external entities, processes, and data stores.\n",
      "    2. Show all data flows with appropriate labels.\n",
      "    3. Group elements under trust boundaries (e.g., Internet, Application, External Services).\n",
      "    4. After the diagram, provide a Threat Analysis (STRIDE) in a Markdown table with:\n",
      "    - Element\n",
      "    - STRIDE category\n",
      "    - Threat description\n",
      "    - Mitigation\n",
      "\n",
      "    The output must contain:\n",
      "    - A runnable Mermaid code block (```mermaid ... ```).\n",
      "    - A Markdown table for the STRIDE threat analysis.\n",
      "                        \n"
     ]
    }
   ],
   "source": [
    "print(user_prompt_dfd())"
   ]
  },
  {
   "cell_type": "code",
   "execution_count": 6,
   "id": "f0aeadcf",
   "metadata": {},
   "outputs": [],
   "source": [
    "def messages_for():\n",
    "    return [\n",
    "        {\"role\": \"system\", \"content\": system_prompt},\n",
    "        {\"role\": \"user\", \"content\": user_prompt_dfd()}\n",
    "    ]"
   ]
  },
  {
   "cell_type": "code",
   "execution_count": 7,
   "id": "dd0ca219",
   "metadata": {},
   "outputs": [
    {
     "data": {
      "text/plain": [
       "[{'role': 'system',\n",
       "  'content': 'You are an expert in cybersecurity and threat modeling Your task is to generate structured Data Flow Diagrams (DFDs) with a focus on identifying potential threats\\nFollow these standards: \\n    - Identify all external entities (e.g., user, third-party services, attackers). \\n    - Identify all processes (e.g., application components, APIs, services). \\n    - Identify all data stores (e.g., databases, file storage, logs). \\n    - Identify all data flows (connections between entities, processes, and stores). \\n    - Clearly specify trust boundaries (separating external actors and internal systems). \\n    - Use STRIDE methodology (Spoofing, Tampering, Repudiation, Information Disclosure, Denial of Service, Elevation of Privilege) to highlight threats for each data flow or process.\\n\\nOutput must contain: \\n    1. A valid Mermaid or PlantUML diagram code block. \\n    2. A threat analysis table in Markdown. \\n\\nExample Output (Mermaid) \\n\\nflowchart TD;\\n  subgraph Internet;\\n    User[External Entity: Customer];\\n  end;\\n\\n  subgraph App[Web Application];\\n    WebApp[Process: E-commerce Website];\\n    DB[(Data Store: MySQL Database)];\\n  end;\\n\\n  subgraph ExternalServices;\\n    PayPal[External Entity: PayPal API];\\n  end;\\n\\n  User -->|Login Credentials| WebApp;\\n  WebApp -->|User Details Query| DB;\\n  WebApp -->|Payment Request| PayPal;\\n'},\n",
       " {'role': 'user',\n",
       "  'content': '\\n    Generate a Data Flow Diagram (DFD) in Mermaid syntax for the following system use case:\\n\\n    We want a healthcare booking system where patients can log in, view available doctors, and schedule appointments. The system should store patient records and send notifications to doctors. Since the system involves sensitive health information, we need to ensure privacy and protect against threats like data leakage or unauthorized access\\n\\n    Requirements:\\n    1. Identify external entities, processes, and data stores.\\n    2. Show all data flows with appropriate labels.\\n    3. Group elements under trust boundaries (e.g., Internet, Application, External Services).\\n    4. After the diagram, provide a Threat Analysis (STRIDE) in a Markdown table with:\\n    - Element\\n    - STRIDE category\\n    - Threat description\\n    - Mitigation\\n\\n    The output must contain:\\n    - A runnable Mermaid code block (```mermaid ... ```).\\n    - A Markdown table for the STRIDE threat analysis.\\n                        '}]"
      ]
     },
     "execution_count": 7,
     "metadata": {},
     "output_type": "execute_result"
    }
   ],
   "source": [
    "messages_for()"
   ]
  },
  {
   "cell_type": "code",
   "execution_count": 8,
   "id": "dd622f71",
   "metadata": {},
   "outputs": [],
   "source": [
    "def generate_dfd_and_threats():\n",
    "    response = openai.chat.completions.create(\n",
    "        model=MODEL,\n",
    "        messages=messages_for(),\n",
    "        temperature=0.2,\n",
    "        max_tokens=1500,\n",
    "    )\n",
    "    return response.choices[0].message.content"
   ]
  },
  {
   "cell_type": "code",
   "execution_count": 12,
   "id": "147429fe",
   "metadata": {},
   "outputs": [],
   "source": [
    "result = generate_dfd_and_threats()"
   ]
  },
  {
   "cell_type": "code",
   "execution_count": 10,
   "id": "d4f8e19f",
   "metadata": {},
   "outputs": [
    {
     "name": "stdout",
     "output_type": "stream",
     "text": [
      "```mermaid\n",
      "flowchart TD;\n",
      "  subgraph Internet;\n",
      "    Patient[External Entity: Patient];\n",
      "    Doctor[External Entity: Doctor];\n",
      "  end;\n",
      "\n",
      "  subgraph App[Healthcare Booking System];\n",
      "    WebApp[Process: Booking Application];\n",
      "    DB[(Data Store: Patient Records)];\n",
      "    NotificationService[Process: Notification Service];\n",
      "  end;\n",
      "\n",
      "  Patient -->|Login Credentials| WebApp;\n",
      "  Patient -->|View Available Doctors| WebApp;\n",
      "  WebApp -->|Doctor List| Patient;\n",
      "  Patient -->|Schedule Appointment| WebApp;\n",
      "  WebApp -->|Store Patient Record| DB;\n",
      "  WebApp -->|Send Notification| NotificationService;\n",
      "  NotificationService -->|Notify Doctor| Doctor;\n",
      "\n",
      "  %% Trust boundaries\n",
      "  classDef external fill:#f9f,stroke:#333,stroke-width:2px;\n",
      "  classDef internal fill:#bbf,stroke:#333,stroke-width:2px;\n",
      "  class Internet external;\n",
      "  class App internal;\n",
      "```\n",
      "\n",
      "### Threat Analysis (STRIDE)\n",
      "\n",
      "| Element                     | STRIDE Category         | Threat Description                                      | Mitigation                                      |\n",
      "|----------------------------|------------------------|--------------------------------------------------------|------------------------------------------------|\n",
      "| Patient                     | Spoofing               | An attacker impersonates a patient to gain access.    | Implement strong authentication (e.g., MFA).  |\n",
      "| WebApp                      | Tampering              | An attacker modifies appointment details.              | Use data integrity checks and encryption.      |\n",
      "| DB                          | Information Disclosure  | Unauthorized access to sensitive patient records.      | Encrypt sensitive data and enforce access controls. |\n",
      "| WebApp                      | Repudiation            | Patients deny scheduling appointments.                  | Implement logging and audit trails.            |\n",
      "| NotificationService         | Denial of Service      | An attacker floods the notification service, causing delays. | Rate limiting and monitoring for unusual activity. |\n",
      "| WebApp                      | Elevation of Privilege | A user gains unauthorized access to admin functions.   | Role-based access control and least privilege principle. |\n"
     ]
    }
   ],
   "source": [
    "print(result)"
   ]
  },
  {
   "cell_type": "code",
   "execution_count": null,
   "id": "ac39d3d9",
   "metadata": {},
   "outputs": [
    {
     "name": "stdout",
     "output_type": "stream",
     "text": [
      "```mermaid\n",
      "flowchart TD;\n",
      "  subgraph Internet;\n",
      "    Customer[External Entity: Customer];\n",
      "    Attacker[External Entity: Attacker];\n",
      "  end;\n",
      "\n",
      "  subgraph App[Mobile Application];\n",
      "    MobileApp[Process: Food Delivery App];\n",
      "    OrderProcessing[Process: Order Processing];\n",
      "    NotificationService[Process: Notification Service];\n",
      "    DB[(Data Store: Menu Database)];\n",
      "    OrderDB[(Data Store: Order Database)];\n",
      "  end;\n",
      "\n",
      "  subgraph ExternalServices;\n",
      "    PaymentGateway[External Entity: Third-Party Payment Service];\n",
      "  end;\n",
      "\n",
      "  Customer -->|Browse Menu| MobileApp;\n",
      "  Customer -->|Place Order| MobileApp;\n",
      "  MobileApp -->|Menu Query| DB;\n",
      "  MobileApp -->|Order Details| OrderProcessing;\n",
      "  OrderProcessing -->|Payment Request| PaymentGateway;\n",
      "  PaymentGateway -->|Payment Confirmation| OrderProcessing;\n",
      "  OrderProcessing -->|Notify Restaurant| NotificationService;\n",
      "  NotificationService -->|Order Notification| Restaurant[External Entity: Restaurant];\n",
      "  OrderProcessing -->|Store Order Details| OrderDB;\n",
      "  \n",
      "  Attacker -->|Fake Login| MobileApp;\n",
      "  Attacker -->|Denial of Service| MobileApp;\n",
      "```\n",
      "\n",
      "\n"
     ]
    },
    {
     "data": {
      "text/markdown": [
       "\n",
       "\n",
       "| Element                     | STRIDE Category           | Threat Description                                           | Mitigation                                      |\n",
       "|----------------------------|--------------------------|------------------------------------------------------------|------------------------------------------------|\n",
       "| Customer                    | Spoofing                 | Fake users can create accounts to place fraudulent orders.  | Implement strong authentication (e.g., 2FA).  |\n",
       "| MobileApp                   | Tampering                | An attacker may modify requests to manipulate orders.      | Use HTTPS and validate inputs on the server.   |\n",
       "| PaymentGateway              | Information Disclosure    | Sensitive payment details could be intercepted.            | Use encryption for data in transit (TLS).      |\n",
       "| OrderProcessing             | Repudiation              | Users may deny placing an order after the fact.            | Maintain logs of all transactions and actions.  |\n",
       "| MobileApp                   | Denial of Service        | Attackers may overwhelm the app with requests.             | Implement rate limiting and DDoS protection.   |\n",
       "| OrderProcessing             | Elevation of Privilege   | Unauthorized access to order processing functions.         | Enforce role-based access control (RBAC).       |"
      ],
      "text/plain": [
       "<IPython.core.display.Markdown object>"
      ]
     },
     "metadata": {},
     "output_type": "display_data"
    }
   ],
   "source": [
    "parts = result.split(\"### Threat Analysis (STRIDE)\")\n",
    "print(parts[0])\n",
    "display(Markdown(parts[1]))"
   ]
  },
  {
   "cell_type": "markdown",
   "id": "2585f079",
   "metadata": {},
   "source": [
    "use this for DFD viz : https://www.eraser.io/make/free-mermaid-diagram-maker\n",
    "\n",
    "or in Draw.io"
   ]
  },
  {
   "cell_type": "code",
   "execution_count": null,
   "id": "49f1da3a",
   "metadata": {},
   "outputs": [],
   "source": []
  }
 ],
 "metadata": {
  "kernelspec": {
   "display_name": "llms",
   "language": "python",
   "name": "python3"
  },
  "language_info": {
   "codemirror_mode": {
    "name": "ipython",
    "version": 3
   },
   "file_extension": ".py",
   "mimetype": "text/x-python",
   "name": "python",
   "nbconvert_exporter": "python",
   "pygments_lexer": "ipython3",
   "version": "3.11.13"
  }
 },
 "nbformat": 4,
 "nbformat_minor": 5
}
